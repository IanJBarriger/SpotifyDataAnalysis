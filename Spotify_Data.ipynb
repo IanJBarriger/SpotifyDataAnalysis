{
 "cells": [
  {
   "cell_type": "code",
   "execution_count": 162,
   "id": "2675c0d0-b4c3-4463-967a-6778c6a97a76",
   "metadata": {},
   "outputs": [
    {
     "name": "stdout",
     "output_type": "stream",
     "text": [
      "                         ts               platform  ms_played conn_country  \\\n",
      "0 2017-01-05 23:44:55+00:00   iOS 10.2 (iPhone7,2)      14210           US   \n",
      "1 2020-02-01 00:12:10+00:00  iOS 13.3 (iPhone11,8)       1514           US   \n",
      "2 2020-02-01 03:18:01+00:00  iOS 13.3 (iPhone11,8)       2154           US   \n",
      "3 2020-02-01 03:21:49+00:00  iOS 13.3 (iPhone11,8)      40460           US   \n",
      "4 2020-02-01 03:21:50+00:00  iOS 13.3 (iPhone11,8)        930           US   \n",
      "\n",
      "           ip_addr                        track_name    artist_name  \\\n",
      "0  184.166.247.105  Subway Monkey (feat. Logan Paul)  Sickick Music   \n",
      "1    174.45.233.34                           Circles    Post Malone   \n",
      "2    174.45.233.34              Cigarettes On Patios       BabyJake   \n",
      "3    174.45.233.34                      Shine On Top       Surfaces   \n",
      "4    174.45.233.34                           Circles    Post Malone   \n",
      "\n",
      "                         album_name                     spotify_track_uri  \\\n",
      "0  Subway Monkey (feat. Logan Paul)  spotify:track:5vz7fK4aQGWbcF6JBgaHvN   \n",
      "1              Hollywood's Bleeding  spotify:track:21jGcNKet2qwijlDFuPiPb   \n",
      "2              Cigarettes On Patios  spotify:track:44yeuXXaEnaK5Cugptf7GH   \n",
      "3                Where the Light Is  spotify:track:4xgtWOWGwxehDX8S21di2K   \n",
      "4              Hollywood's Bleeding  spotify:track:21jGcNKet2qwijlDFuPiPb   \n",
      "\n",
      "  episode_name  ... audiobook_chapter_title reason_start  \\\n",
      "0          NaN  ...                     NaN      playbtn   \n",
      "1          NaN  ...                     NaN      playbtn   \n",
      "2          NaN  ...                     NaN     clickrow   \n",
      "3          NaN  ...                     NaN      playbtn   \n",
      "4          NaN  ...                     NaN      playbtn   \n",
      "\n",
      "                     reason_end  shuffle  skipped  offline offline_timestamp  \\\n",
      "0  unexpected-exit-while-paused     True    False    False               NaN   \n",
      "1                       endplay     True    False    False               NaN   \n",
      "2  unexpected-exit-while-paused    False    False    False               NaN   \n",
      "3                       endplay     True    False    False               NaN   \n",
      "4                       endplay     True    False    False               NaN   \n",
      "\n",
      "  incognito_mode        date      time  \n",
      "0          False  2017-01-05  23:44:55  \n",
      "1          False  2020-02-01  00:12:10  \n",
      "2          False  2020-02-01  03:18:01  \n",
      "3          False  2020-02-01  03:21:49  \n",
      "4          False  2020-02-01  03:21:50  \n",
      "\n",
      "[5 rows x 25 columns]\n",
      "<class 'pandas.core.frame.DataFrame'>\n",
      "RangeIndex: 80100 entries, 0 to 80099\n",
      "Data columns (total 25 columns):\n",
      " #   Column                   Non-Null Count  Dtype              \n",
      "---  ------                   --------------  -----              \n",
      " 0   ts                       80100 non-null  datetime64[ns, UTC]\n",
      " 1   platform                 80100 non-null  object             \n",
      " 2   ms_played                80100 non-null  int64              \n",
      " 3   conn_country             80100 non-null  object             \n",
      " 4   ip_addr                  80100 non-null  object             \n",
      " 5   track_name               79558 non-null  object             \n",
      " 6   artist_name              79558 non-null  object             \n",
      " 7   album_name               79558 non-null  object             \n",
      " 8   spotify_track_uri        79558 non-null  object             \n",
      " 9   episode_name             542 non-null    object             \n",
      " 10  episode_show_name        542 non-null    object             \n",
      " 11  spotify_episode_uri      542 non-null    object             \n",
      " 12  audiobook_title          0 non-null      float64            \n",
      " 13  audiobook_uri            0 non-null      float64            \n",
      " 14  audiobook_chapter_uri    0 non-null      float64            \n",
      " 15  audiobook_chapter_title  0 non-null      float64            \n",
      " 16  reason_start             80100 non-null  object             \n",
      " 17  reason_end               80100 non-null  object             \n",
      " 18  shuffle                  80100 non-null  bool               \n",
      " 19  skipped                  80100 non-null  bool               \n",
      " 20  offline                  80100 non-null  bool               \n",
      " 21  offline_timestamp        45207 non-null  float64            \n",
      " 22  incognito_mode           80100 non-null  bool               \n",
      " 23  date                     80100 non-null  object             \n",
      " 24  time                     80100 non-null  object             \n",
      "dtypes: bool(4), datetime64[ns, UTC](1), float64(5), int64(1), object(14)\n",
      "memory usage: 13.1+ MB\n",
      "None\n"
     ]
    }
   ],
   "source": [
    "import pandas as pd\n",
    "import numpy as np\n",
    "\n",
    "df = pd.read_csv('Data/2017-2025_Spotify_Data.csv', delimiter=',')\n",
    "\n",
    "df['ts'] = pd.to_datetime(df['ts'])\n",
    "\n",
    "# Extract date and time into separate columns\n",
    "df['date'] = df['ts'].dt.date  # Extract date\n",
    "df['time'] = df['ts'].dt.time  # Extract time\n",
    "\n",
    "df_songs['date'] = pd.to_datetime(df_songs['date'])\n",
    "df_songs['time'] = pd.to_datetime(df_songs['time'], format='%H:%M:%S').dt.time\n",
    "\n",
    "print(df.head())\n",
    "print(df.info())"
   ]
  },
  {
   "cell_type": "code",
   "execution_count": 64,
   "id": "7dee7198-15a4-49d7-bfe9-d756e8946834",
   "metadata": {},
   "outputs": [],
   "source": [
    "#Create df of only songs\n",
    "\n",
    "\n",
    "df_songs = df.dropna(subset=['track_name']) #Check if it is a song\n",
    "\n",
    "df_songs = df_songs[df_songs['ms_played'] >= 30000] #Check if it is a qualified listen\n",
    "\n",
    "df_songs = df_songs.reset_index()\n",
    "\n",
    "df_songs.insert(6, 'seconds_played', df_songs['ms_played'] / 1000)"
   ]
  },
  {
   "cell_type": "code",
   "execution_count": 66,
   "id": "bd76fe09-7ed4-4aa8-a4de-7d22212d989d",
   "metadata": {},
   "outputs": [
    {
     "name": "stdout",
     "output_type": "stream",
     "text": [
      "             date      time platform                          track_name  \\\n",
      "0      2020-02-01  03:21:49      iOS                        Shine On Top   \n",
      "1      2020-02-01  03:26:10      iOS                                 239   \n",
      "2      2020-02-01  03:28:20      iOS                         ORANGE SODA   \n",
      "3      2020-02-01  03:32:18      iOS                             Shibuya   \n",
      "4      2020-02-01  03:32:53      iOS                         Sunday Best   \n",
      "...           ...       ...      ...                                 ...   \n",
      "43574  2025-01-29  22:34:52      iOS             Dance Dance Dance Dance   \n",
      "43575  2025-01-29  22:38:09      iOS      Feel A Way (feat. Don Toliver)   \n",
      "43576  2025-01-29  22:40:24      iOS  Still (feat. Charlotte Day Wilson)   \n",
      "43577  2025-01-29  22:43:36      iOS           Video (feat. Ravyn Lenae)   \n",
      "43578  2025-01-29  22:51:18      iOS                           Seemingly   \n",
      "\n",
      "               album_name artist_name  seconds_played  \\\n",
      "0      Where the Light Is    Surfaces          40.460   \n",
      "1                     239    BabyJake         158.000   \n",
      "2        DIE FOR MY BITCH   Baby Keem         129.882   \n",
      "3            Funk With Me       L.Dre          98.200   \n",
      "4      Where the Light Is    Surfaces          30.120   \n",
      "...                   ...         ...             ...   \n",
      "43574            TIMELESS  KAYTRANADA         101.906   \n",
      "43575            TIMELESS  KAYTRANADA         195.882   \n",
      "43576            TIMELESS  KAYTRANADA         133.731   \n",
      "43577            TIMELESS  KAYTRANADA         191.037   \n",
      "43578            TIMELESS  KAYTRANADA         196.599   \n",
      "\n",
      "                          spotify_track_uri  \n",
      "0      spotify:track:4xgtWOWGwxehDX8S21di2K  \n",
      "1      spotify:track:5qTL0KYAVSuLhcUyJYu3jV  \n",
      "2      spotify:track:5FkoSXiJPKTNyYgALRJFhD  \n",
      "3      spotify:track:1zgnuCza7E3q0MHsnW5Hcl  \n",
      "4      spotify:track:1Cv1YLb4q0RzL6pybtaMLo  \n",
      "...                                     ...  \n",
      "43574  spotify:track:6qNA4oi603Kluq2CiTszvP  \n",
      "43575  spotify:track:0PgqpFFX4WxBbXhjkONk5b  \n",
      "43576  spotify:track:099suT0NkLdJyKTa38oY0Q  \n",
      "43577  spotify:track:7CPz32jHbtNIZev8vpa9yb  \n",
      "43578  spotify:track:1BqjVBfqdUclV4rUYmdpE4  \n",
      "\n",
      "[43579 rows x 8 columns]\n"
     ]
    }
   ],
   "source": [
    "#Renaming platform column\n",
    "df_songs = df_songs[['date', 'time', 'platform', 'track_name', 'album_name', 'artist_name', 'seconds_played', 'spotify_track_uri']]\n",
    "\n",
    "conditions = [\n",
    "    df_songs['platform'].str.contains('iOS|ios', case=False, na=False),  # iOS\n",
    "    df_songs['platform'].str.contains('web_player|Windows', case=False, na=False),  # Desktop\n",
    "    df_songs['platform'].str.contains('SCEI|ps4|ps5|playstation|sony', case=False, na=False),  # Playstation\n",
    "]\n",
    "\n",
    "choices = ['iOS', 'PC', 'Playstation']\n",
    "\n",
    "# Use np.select to assign new values\n",
    "df_songs['platform'] = np.select(conditions, choices, default='Other')\n",
    "\n",
    "#print(df_songs[df_songs['platform'] == 'PC'])\n",
    "print(df_songs)\n",
    "#print(df_songs.iloc[40000:40005])"
   ]
  },
  {
   "cell_type": "code",
   "execution_count": 76,
   "id": "06564b38-3e11-4b7d-8afb-ff56b63311d2",
   "metadata": {},
   "outputs": [
    {
     "name": "stdout",
     "output_type": "stream",
     "text": [
      "artist_name\n",
      "Childish Gambino      4346\n",
      "Tyler, The Creator    3485\n",
      "Kanye West            2972\n",
      "Frank Ocean           2486\n",
      "Yung Gravy            1855\n",
      "Kendrick Lamar        1788\n",
      "Drake                 1329\n",
      "Mac Miller            1185\n",
      "Brent Faiyaz          1158\n",
      "bbno$                  816\n",
      "Name: count, dtype: int64\n"
     ]
    }
   ],
   "source": [
    "#Top 10 Artists\n",
    "df_TopArtist = df_songs['artist_name'].value_counts()\n",
    "\n",
    "print(df_TopArtist.head(10))"
   ]
  },
  {
   "cell_type": "code",
   "execution_count": 94,
   "id": "45108795-3fda-41f1-a4e8-532cf84cd587",
   "metadata": {},
   "outputs": [
    {
     "name": "stdout",
     "output_type": "stream",
     "text": [
      "artist_name\n",
      "Childish Gambino      2670\n",
      "Tyler, The Creator    1712\n",
      "Frank Ocean            823\n",
      "Kanye West             634\n",
      "Mac Miller             584\n",
      "Brent Faiyaz           483\n",
      "Kendrick Lamar         448\n",
      "KAYTRANADA             378\n",
      "Drake                  358\n",
      "Chance the Rapper      293\n",
      "Name: count, dtype: int64\n"
     ]
    }
   ],
   "source": [
    "#Top 10 Artist in the last year\n",
    "Year =  pd.to_datetime('2024-03-11')\n",
    "df_1Year = df_songs[df_songs['date'] > Year]\n",
    "\n",
    "df_TopArtistYear = df_1Year['artist_name'].value_counts()\n",
    "\n",
    "print(df_TopArtistYear.head(10))"
   ]
  },
  {
   "cell_type": "code",
   "execution_count": 98,
   "id": "3e789151-b915-46c2-aedb-4da0df0bc9de",
   "metadata": {},
   "outputs": [
    {
     "name": "stdout",
     "output_type": "stream",
     "text": [
      "track_name\n",
      "3005                                       431\n",
      "Bonfire                                    400\n",
      "She                                        359\n",
      "SMUCKERS (feat. Lil Wayne & Kanye West)    289\n",
      "Chanel                                     280\n",
      "Nights                                     271\n",
      "IV. Sweatpants                             269\n",
      "BEST INTEREST                              267\n",
      "I. The Worst Guys                          265\n",
      "Location                                   253\n",
      "Name: count, dtype: int64\n"
     ]
    }
   ],
   "source": [
    "#Top 10 Songs\n",
    "df_TopSong = df_songs['track_name'].value_counts()\n",
    "\n",
    "print(df_TopSong.head(10))"
   ]
  },
  {
   "cell_type": "code",
   "execution_count": 100,
   "id": "22fb5d3d-ad1a-447e-a23c-c24b45f0e92d",
   "metadata": {},
   "outputs": [
    {
     "name": "stdout",
     "output_type": "stream",
     "text": [
      "track_name\n",
      "Les                                206\n",
      "Witchy (feat. Childish Gambino)    152\n",
      "Freaks And Geeks                   128\n",
      "3005                               128\n",
      "To Be Hunted                       120\n",
      "Me and Your Mama                   114\n",
      "Bonfire                            105\n",
      "Redbone                            103\n",
      "drive ME crazy!                    100\n",
      "BEST INTEREST                       98\n",
      "Name: count, dtype: int64\n"
     ]
    }
   ],
   "source": [
    "#Top 10 Songs in the last year\n",
    "df_TopSongYear = df_1Year['track_name'].value_counts()\n",
    "\n",
    "print(df_TopSongYear.head(10))"
   ]
  },
  {
   "cell_type": "code",
   "execution_count": 130,
   "id": "4bde9328-63ca-49d7-90e1-3fc2eaadcfcc",
   "metadata": {},
   "outputs": [
    {
     "name": "stdout",
     "output_type": "stream",
     "text": [
      "track_name\n",
      "3005                                       431\n",
      "Bonfire                                    400\n",
      "She                                        359\n",
      "SMUCKERS (feat. Lil Wayne & Kanye West)    289\n",
      "Chanel                                     280\n",
      "Nights                                     271\n",
      "IV. Sweatpants                             269\n",
      "BEST INTEREST                              267\n",
      "I. The Worst Guys                          265\n",
      "Location                                   253\n",
      "Name: count, dtype: int64\n"
     ]
    }
   ],
   "source": [
    "#Top 10 Albums\n",
    "df_topAlbum = df_songs['album_name'].value_counts()\n",
    "\n",
    "print(df_TopSong.head(10))"
   ]
  },
  {
   "cell_type": "code",
   "execution_count": 124,
   "id": "5d25b9ff-3659-4fea-9ae6-f14216f18034",
   "metadata": {},
   "outputs": [
    {
     "name": "stdout",
     "output_type": "stream",
     "text": [
      "8496214.38 Seconds\n",
      "141603.57 Minutes\n",
      "2360.06 Hours\n",
      "98.34 Days\n",
      "\n",
      "\n",
      "28320.71 Minutes per year\n",
      "472.01 Hours per year\n"
     ]
    }
   ],
   "source": [
    "#Total Time Listened\n",
    "timeListened = df_songs['seconds_played'].sum()\n",
    "print(round(timeListened, 2), \"Seconds\")\n",
    "print(round(timeListened/60, 2), \"Minutes\")\n",
    "print(round(timeListened/3600, 2), \"Hours\")\n",
    "print(round(timeListened/86400, 2), \"Days\")\n",
    "\n",
    "print(\"\\n\")\n",
    "\n",
    "#Average Time Listened Per Year\n",
    "print(round(timeListened/(60*5),2), \"Minutes per year\")\n",
    "print(round(timeListened/(3600*5),2), \"Hours per year\")"
   ]
  },
  {
   "cell_type": "code",
   "execution_count": 128,
   "id": "8fddd1bb-15fe-464b-877d-046b2dea1740",
   "metadata": {},
   "outputs": [
    {
     "name": "stdout",
     "output_type": "stream",
     "text": [
      "194.96 seconds per song\n"
     ]
    }
   ],
   "source": [
    "#Average Time per Song\n",
    "totalSongs = df_songs['track_name'].count()\n",
    "\n",
    "avgPerSong = timeListened / totalSongs\n",
    "\n",
    "print(round(avgPerSong, 2), \"seconds per song\")"
   ]
  },
  {
   "cell_type": "code",
   "execution_count": 154,
   "id": "6ceb9eea-0032-4730-b69d-43570f2b4721",
   "metadata": {},
   "outputs": [
    {
     "name": "stdout",
     "output_type": "stream",
     "text": [
      "  day_of_week  minutes_played\n",
      "0      Monday        16543.58\n",
      "1     Tuesday        20083.68\n",
      "2   Wednesday        20470.84\n",
      "3    Thursday        18719.72\n",
      "4      Friday        23090.84\n",
      "5    Saturday        21016.77\n",
      "6      Sunday        21678.14\n"
     ]
    }
   ],
   "source": [
    "#Average Listening by Weekday\n",
    "\n",
    "df_songs['day_of_week'] = df_songs['date'].dt.day_name()\n",
    "\n",
    "df_weekdays = df_songs.groupby('day_of_week')['seconds_played'].sum().reset_index()\n",
    "\n",
    "ordered_days = ['Monday', 'Tuesday', 'Wednesday', 'Thursday', 'Friday', 'Saturday', 'Sunday']\n",
    "df_weekdays['day_of_week'] = pd.Categorical(df_weekdays['day_of_week'], categories=ordered_days, ordered=True)\n",
    "df_weekdays = df_weekdays.sort_values('day_of_week').reset_index(drop=True)\n",
    "\n",
    "df_weekdays['minutes_played'] = round(df_weekdays['seconds_played'] / 60,2)\n",
    "df_weekdays = df_weekdays[['day_of_week','minutes_played']\n",
    "\n",
    "print(df_weekdays)"
   ]
  },
  {
   "cell_type": "code",
   "execution_count": 181,
   "id": "4c5df55f-29b7-4f91-9fcb-ce29fb44425d",
   "metadata": {},
   "outputs": [
    {
     "name": "stdout",
     "output_type": "stream",
     "text": [
      "  time_of_day  minutes_played\n",
      "0     morning        67221.29\n",
      "1   afternoon        21362.29\n",
      "2       night        53019.99\n"
     ]
    }
   ],
   "source": [
    "#Morning and Evening Listening Habits\n",
    "df_songs['time_of_day'] = df_songs['time'].apply(lambda x: \n",
    "                                                'morning' if x < pd.to_datetime('12:00:00').time() else\n",
    "                                                ('afternoon' if x < pd.to_datetime('16:00:00').time() else 'night'))\n",
    "\n",
    "df_time_of_day = df_songs.groupby('time_of_day')['seconds_played'].sum().reset_index()\n",
    "\n",
    "ordered_time = ['morning', 'afternoon', 'night']\n",
    "df_time_of_day['time_of_day'] = pd.Categorical(df_time_of_day['time_of_day'], categories=ordered_time, ordered=True)\n",
    "\n",
    "df_time_of_day = df_time_of_day.sort_values('time_of_day').reset_index(drop=True)\n",
    "\n",
    "df_time_of_day['minutes_played'] = round(df_time_of_day['seconds_played'] / 60,2)\n",
    "df_time_of_day = df_time_of_day[['time_of_day','minutes_played']]\n",
    "\n",
    "print(df_time_of_day)"
   ]
  }
 ],
 "metadata": {
  "kernelspec": {
   "display_name": "Python 3 (ipykernel)",
   "language": "python",
   "name": "python3"
  },
  "language_info": {
   "codemirror_mode": {
    "name": "ipython",
    "version": 3
   },
   "file_extension": ".py",
   "mimetype": "text/x-python",
   "name": "python",
   "nbconvert_exporter": "python",
   "pygments_lexer": "ipython3",
   "version": "3.12.7"
  }
 },
 "nbformat": 4,
 "nbformat_minor": 5
}
